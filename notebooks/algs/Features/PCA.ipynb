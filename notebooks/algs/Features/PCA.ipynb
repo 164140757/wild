{
 "cells": [
  {
   "cell_type": "code",
   "execution_count": 36,
   "id": "personal-carol",
   "metadata": {
    "collapsed": true,
    "jupyter": {
     "outputs_hidden": true
    },
    "tags": []
   },
   "outputs": [
    {
     "name": "stderr",
     "output_type": "stream",
     "text": [
      "\n",
      "Attaching package: 'dplyr'\n",
      "\n",
      "\n",
      "The following objects are masked from 'package:stats':\n",
      "\n",
      "    filter, lag\n",
      "\n",
      "\n",
      "The following objects are masked from 'package:base':\n",
      "\n",
      "    intersect, setdiff, setequal, union\n",
      "\n",
      "\n"
     ]
    }
   ],
   "source": [
    "library(ggplot2)\n",
    "library(readxl)"
   ]
  },
  {
   "cell_type": "code",
   "execution_count": 45,
   "id": "laden-float",
   "metadata": {},
   "outputs": [],
   "source": [
    "data <- read_excel('../../data/experiment_data.xlsx')\n",
    "names(data)[names(data) == \"Height(cm)\"] <- \"height\"\n",
    "names(data)[names(data) == \"Weight(kg)\"] <- \"weight\"\n",
    "names(data)[names(data) == \"Shoe size (European)\"] <- \"shoe_size\"\n",
    "\n"
   ]
  },
  {
   "cell_type": "code",
   "execution_count": 49,
   "id": "ignored-counter",
   "metadata": {
    "tags": []
   },
   "outputs": [
    {
     "data": {
      "image/png": "[encoded data removed]",
      "text/plain": [
       "plot without title"
      ]
     },
     "metadata": {
      "image/png": {
       "height": 420,
       "width": 420
      }
     },
     "output_type": "display_data"
    }
   ],
   "source": [
    "g<-ggplot(data = data) + geom_point(mapping = aes(x = height, y = weight, color = Gender))\n",
    "+ \n",
    "g"
   ]
  },
  {
   "cell_type": "code",
   "execution_count": 50,
   "id": "damaged-playing",
   "metadata": {},
   "outputs": [
    {
     "name": "stderr",
     "output_type": "stream",
     "text": [
      "Saving 6.67 x 6.67 in image\n",
      "\n"
     ]
    }
   ],
   "source": [
    "ggsave('dot.png', g, dpi = 300)"
   ]
  },
  {
   "cell_type": "code",
   "execution_count": 47,
   "id": "activated-familiar",
   "metadata": {},
   "outputs": [
    {
     "data": {
      "text/html": [
       "<table class=\"dataframe\">\n",
       "<caption>A tibble: 6 × 4</caption>\n",
       "<thead>\n",
       "\t<tr><th scope=col>Gender</th><th scope=col>height</th><th scope=col>weight</th><th scope=col>shoe_size</th></tr>\n",
       "\t<tr><th scope=col>&lt;chr&gt;</th><th scope=col>&lt;dbl&gt;</th><th scope=col>&lt;dbl&gt;</th><th scope=col>&lt;dbl&gt;</th></tr>\n",
       "</thead>\n",
       "<tbody>\n",
       "\t<tr><td>F</td><td>168</td><td>51</td><td>38.0</td></tr>\n",
       "\t<tr><td>M</td><td>179</td><td>70</td><td>42.0</td></tr>\n",
       "\t<tr><td>M</td><td>178</td><td>74</td><td>42.0</td></tr>\n",
       "\t<tr><td>F</td><td>155</td><td>50</td><td>36.0</td></tr>\n",
       "\t<tr><td>M</td><td>179</td><td>79</td><td>44.5</td></tr>\n",
       "\t<tr><td>F</td><td>164</td><td>49</td><td>36.5</td></tr>\n",
       "</tbody>\n",
       "</table>\n"
      ],
      "text/latex": [
       "A tibble: 6 × 4\n",
       "\\begin{tabular}{llll}\n",
       " Gender & height & weight & shoe\\_size\\\\\n",
       " <chr> & <dbl> & <dbl> & <dbl>\\\\\n",
       "\\hline\n",
       "\t F & 168 & 51 & 38.0\\\\\n",
       "\t M & 179 & 70 & 42.0\\\\\n",
       "\t M & 178 & 74 & 42.0\\\\\n",
       "\t F & 155 & 50 & 36.0\\\\\n",
       "\t M & 179 & 79 & 44.5\\\\\n",
       "\t F & 164 & 49 & 36.5\\\\\n",
       "\\end{tabular}\n"
      ],
      "text/markdown": [
       "\n",
       "A tibble: 6 × 4\n",
       "\n",
       "| Gender &lt;chr&gt; | height &lt;dbl&gt; | weight &lt;dbl&gt; | shoe_size &lt;dbl&gt; |\n",
       "|---|---|---|---|\n",
       "| F | 168 | 51 | 38.0 |\n",
       "| M | 179 | 70 | 42.0 |\n",
       "| M | 178 | 74 | 42.0 |\n",
       "| F | 155 | 50 | 36.0 |\n",
       "| M | 179 | 79 | 44.5 |\n",
       "| F | 164 | 49 | 36.5 |\n",
       "\n"
      ],
      "text/plain": [
       "  Gender height weight shoe_size\n",
       "1 F      168    51     38.0     \n",
       "2 M      179    70     42.0     \n",
       "3 M      178    74     42.0     \n",
       "4 F      155    50     36.0     \n",
       "5 M      179    79     44.5     \n",
       "6 F      164    49     36.5     "
      ]
     },
     "metadata": {},
     "output_type": "display_data"
    }
   ],
   "source": [
    "head(data)"
   ]
  },
  {
   "cell_type": "code",
   "execution_count": 48,
   "id": "designed-providence",
   "metadata": {},
   "outputs": [
    {
     "data": {
      "text/html": [
       "<table class=\"dataframe\">\n",
       "<caption>A matrix: 2 × 2 of type dbl</caption>\n",
       "<thead>\n",
       "\t<tr><th></th><th scope=col>height</th><th scope=col>weight</th></tr>\n",
       "</thead>\n",
       "<tbody>\n",
       "\t<tr><th scope=row>height</th><td>60.58981</td><td> 68.54344</td></tr>\n",
       "\t<tr><th scope=row>weight</th><td>68.54344</td><td>161.86139</td></tr>\n",
       "</tbody>\n",
       "</table>\n"
      ],
      "text/latex": [
       "A matrix: 2 × 2 of type dbl\n",
       "\\begin{tabular}{r|ll}\n",
       "  & height & weight\\\\\n",
       "\\hline\n",
       "\theight & 60.58981 &  68.54344\\\\\n",
       "\tweight & 68.54344 & 161.86139\\\\\n",
       "\\end{tabular}\n"
      ],
      "text/markdown": [
       "\n",
       "A matrix: 2 × 2 of type dbl\n",
       "\n",
       "| <!--/--> | height | weight |\n",
       "|---|---|---|\n",
       "| height | 60.58981 |  68.54344 |\n",
       "| weight | 68.54344 | 161.86139 |\n",
       "\n"
      ],
      "text/plain": [
       "       height   weight   \n",
       "height 60.58981  68.54344\n",
       "weight 68.54344 161.86139"
      ]
     },
     "metadata": {},
     "output_type": "display_data"
    }
   ],
   "source": [
    "cov(data[,2:3])"
   ]
  },
  {
   "cell_type": "code",
   "execution_count": 87,
   "id": "pediatric-fashion",
   "metadata": {},
   "outputs": [
    {
     "data": {
      "image/png": "[encoded data removed]",
      "text/plain": [
       "plot without title"
      ]
     },
     "metadata": {
      "image/png": {
       "height": 420,
       "width": 420
      }
     },
     "output_type": "display_data"
    }
   ],
   "source": [
    "library(ggplot2)\n",
    "x <- seq(from = -2, to = 2, by = 0.2)\n",
    "y <- 2*x\n",
    "\n",
    "plot(x,y, type=\"l\", col='blue', lwd=3)"
   ]
  },
  {
   "cell_type": "code",
   "execution_count": null,
   "id": "essential-atlantic",
   "metadata": {},
   "outputs": [],
   "source": []
  }
 ],
 "metadata": {
  "kernelspec": {
   "display_name": "R",
   "language": "R",
   "name": "ir"
  },
  "language_info": {
   "codemirror_mode": "r",
   "file_extension": ".r",
   "mimetype": "text/x-r-source",
   "name": "R",
   "pygments_lexer": "r",
   "version": "4.0.4"
  }
 },
 "nbformat": 4,
 "nbformat_minor": 5
}
