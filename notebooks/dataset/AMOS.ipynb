{
 "cells": [
  {
   "cell_type": "code",
   "execution_count": 1,
   "source": [
    "\r\n",
    "\r\n",
    "\r\n",
    "\r\n",
    "import shutil\r\n",
    "from glob import glob\r\n",
    "import os\r\n",
    "from multiprocessing import Pool\r\n",
    "from functools import partial\r\n",
    "\r\n",
    "import numpy as np\r\n",
    "from tqdm import tqdm\r\n",
    "import pandas as pd\r\n",
    "import re"
   ],
   "outputs": [],
   "metadata": {}
  },
  {
   "cell_type": "code",
   "execution_count": 80,
   "source": [
    "path_data = r'E:/MIA/AMOS-CT-MR/valid/first_round'\r\n",
    "path_to = r'E:/MIA/AMOS-CT-MR/'"
   ],
   "outputs": [],
   "metadata": {}
  },
  {
   "cell_type": "code",
   "execution_count": 81,
   "source": [
    "path_data = glob(path_data + '/20*')"
   ],
   "outputs": [],
   "metadata": {}
  },
  {
   "cell_type": "code",
   "execution_count": 88,
   "source": [
    "path_data"
   ],
   "outputs": [
    {
     "output_type": "execute_result",
     "data": {
      "text/plain": [
       "['E:/MIA/AMOS-CT-MR/valid/first_round\\\\2018',\n",
       " 'E:/MIA/AMOS-CT-MR/valid/first_round\\\\2019',\n",
       " 'E:/MIA/AMOS-CT-MR/valid/first_round\\\\2020']"
      ]
     },
     "metadata": {},
     "execution_count": 88
    }
   ],
   "metadata": {}
  },
  {
   "cell_type": "code",
   "execution_count": null,
   "source": [
    "for path in path_data:\r\n",
    "    os.makedirs(os.path.join(path_to, path.split(os.sep)[-1]))"
   ],
   "outputs": [],
   "metadata": {}
  },
  {
   "cell_type": "code",
   "execution_count": null,
   "source": [
    "glob(path_data[0]+'\\\\*\\\\*')"
   ],
   "outputs": [],
   "metadata": {}
  },
  {
   "cell_type": "code",
   "execution_count": 55,
   "source": [
    "data_list = []\r\n",
    "\r\n",
    "for path in path_data:\r\n",
    "    data_list.extend(glob(path+'\\\\*\\\\*'))"
   ],
   "outputs": [],
   "metadata": {}
  },
  {
   "cell_type": "code",
   "execution_count": 85,
   "source": [
    "def move_(x):\r\n",
    "     shutil.move(x, os.path.join(path_to, x.split(os.sep)[-3], x.split(os.sep)[-1]))"
   ],
   "outputs": [],
   "metadata": {}
  },
  {
   "cell_type": "code",
   "execution_count": 87,
   "source": [
    "for x in data_list:\r\n",
    "    shutil.move(x, os.path.join(path_to, x.split(os.sep)[-3], x.split(os.sep)[-1]))"
   ],
   "outputs": [],
   "metadata": {}
  },
  {
   "cell_type": "code",
   "execution_count": 96,
   "source": [
    "df = pd.concat(pd.read_excel(r'E:\\MIA\\AMOS-CT-MR\\valid\\first_round\\meta\\firstround_data_meta-2019.xlsx', sheet_name=None, usecols=['Nii_File', '病历号']),ignore_index=True)"
   ],
   "outputs": [],
   "metadata": {}
  },
  {
   "cell_type": "code",
   "execution_count": 93,
   "source": [
    "df.to_excel('2019_valid_segmentation_flags.xlsx', index=False)"
   ],
   "outputs": [],
   "metadata": {}
  },
  {
   "cell_type": "code",
   "execution_count": 95,
   "source": [
    "df_c = pd.read_excel('../../data/2019_valid_segmentation_flags.xlsx')"
   ],
   "outputs": [],
   "metadata": {}
  },
  {
   "cell_type": "code",
   "execution_count": 98,
   "source": [
    "df.merge(df_c, how='inner', on='Nii_File').to_excel('../../data/2019_valid_segmentation_flags.xlsx')"
   ],
   "outputs": [],
   "metadata": {}
  },
  {
   "cell_type": "code",
   "execution_count": 104,
   "source": [
    "# dfs_2018 = pd.read_excel(r'..\\..\\data\\firstround_data_meta-2018.xlsx', sheet_name=None)\r\n",
    "dfs_2019 = pd.read_excel(r'..\\..\\data\\firstround_data_meta-2019.xlsx', sheet_name=None)\r\n",
    "dfs_2020 = pd.read_excel(r'..\\..\\data\\firstround_data_meta-2020.xlsx', sheet_name=None)"
   ],
   "outputs": [],
   "metadata": {}
  },
  {
   "cell_type": "code",
   "execution_count": 25,
   "source": [
    "r = re.compile(\"2018.\")\r\n",
    "cols = list(filter(r.match, dfs_2018.keys()))"
   ],
   "outputs": [],
   "metadata": {}
  },
  {
   "cell_type": "code",
   "execution_count": 27,
   "source": [
    "cols"
   ],
   "outputs": [
    {
     "output_type": "execute_result",
     "data": {
      "text/plain": [
       "['201808', '201809', '201810', '201811', '201812']"
      ]
     },
     "metadata": {},
     "execution_count": 27
    }
   ],
   "metadata": {}
  },
  {
   "cell_type": "code",
   "execution_count": 75,
   "source": [
    "def write(out_name, dfs):\r\n",
    "    writer = pd.ExcelWriter(out_name, engine='xlsxwriter')\r\n",
    "    for key in dfs.keys():\r\n",
    "        dfs[key].to_excel(writer, sheet_name=key, index = False)\r\n",
    "    writer.save()"
   ],
   "outputs": [],
   "metadata": {}
  },
  {
   "cell_type": "code",
   "execution_count": null,
   "source": [
    "df_ref_2019 = pd.read_excel(r'../../data/2019_valid_segmentation_flags.xlsx')\r\n",
    "df_ref_2020 = pd.read_excel(r'../../data/firstround_data2020-pre.xlsx')"
   ],
   "outputs": [],
   "metadata": {}
  },
  {
   "cell_type": "code",
   "execution_count": 78,
   "source": [
    "#columns = {'flag':'complete_ab_flag'}, inplace = True\r\n",
    "def cb_ann_half(df, df_ref):\r\n",
    "    df.drop(df.columns[0], axis=1, inplace=True)\r\n",
    "    if('flag' in df.columns):\r\n",
    "        df.rename(columns = {'flag':'complete_ab_flag'}, inplace = True, errors=\"raise\")\r\n",
    "    if(df_ref.shape[0] == 0 and 'ann_flag' not in df.columns):\r\n",
    "        df['ann_flag'] = \"\"\r\n",
    "        return df\r\n",
    "    df_ref = df_ref[['ann_flag', 'Nii_File']]\r\n",
    "    df_out = pd.merge(df, df_ref, how='left', on='Nii_File')\r\n",
    "    return df_out"
   ],
   "outputs": [],
   "metadata": {}
  },
  {
   "cell_type": "code",
   "execution_count": 71,
   "source": [
    "def op_df(dfs, df_ref):\r\n",
    "    for key in dfs:\r\n",
    "        dfs[key] = cb_ann_half(dfs[key], df_ref)\r\n",
    "    return dfs"
   ],
   "outputs": [],
   "metadata": {}
  },
  {
   "cell_type": "code",
   "execution_count": null,
   "source": [
    "write('firstround_data_meta-2018.xlsx',op_df(dfs_2018, pd.DataFrame()))\r\n",
    "write('firstround_data_meta-2019.xlsx',op_df(dfs_2019, df_ref_2019))\r\n",
    "write('firstround_data_meta-2020.xlsx',op_df(dfs_2020, df_ref_2020))"
   ],
   "outputs": [],
   "metadata": {}
  },
  {
   "cell_type": "code",
   "execution_count": 105,
   "source": [
    "def iter_cat_df(dfs):\r\n",
    "    res = []\r\n",
    "    for key in dfs:\r\n",
    "        df = dfs[key]\r\n",
    "        res.append(df[df['ann_flag']==1]['病历号'])\r\n",
    "        # res.append(df['病历号'])\r\n",
    "    return pd.concat(res, axis=0)\r\n"
   ],
   "outputs": [],
   "metadata": {}
  },
  {
   "cell_type": "code",
   "execution_count": 97,
   "source": [
    "pids_2019 = iter_cat_df(dfs_2019)\r\n",
    "pids_2020 = iter_cat_df(dfs_2020)"
   ],
   "outputs": [],
   "metadata": {}
  },
  {
   "cell_type": "code",
   "execution_count": 106,
   "source": [
    "pids_ann_2019 = iter_cat_df(dfs_2019)\r\n",
    "pids_ann_2020 = iter_cat_df(dfs_2020)"
   ],
   "outputs": [],
   "metadata": {}
  },
  {
   "cell_type": "code",
   "execution_count": 107,
   "source": [
    "ann_counts = pd.concat([pids_ann_2019, pids_ann_2020]).value_counts()"
   ],
   "outputs": [],
   "metadata": {}
  },
  {
   "cell_type": "code",
   "execution_count": 98,
   "source": [
    "counts = pd.concat([pids_2019, pids_2020]).value_counts()"
   ],
   "outputs": [],
   "metadata": {}
  },
  {
   "cell_type": "code",
   "execution_count": 108,
   "source": [
    "ann_counts[ann_counts != 1]"
   ],
   "outputs": [
    {
     "output_type": "execute_result",
     "data": {
      "text/plain": [
       "Series([], Name: 病历号, dtype: int64)"
      ]
     },
     "metadata": {},
     "execution_count": 108
    }
   ],
   "metadata": {}
  },
  {
   "cell_type": "code",
   "execution_count": 100,
   "source": [
    "'59a55a2d04db85d16d51aca4c82879db' in ann_counts"
   ],
   "outputs": [
    {
     "output_type": "execute_result",
     "data": {
      "text/plain": [
       "True"
      ]
     },
     "metadata": {},
     "execution_count": 100
    }
   ],
   "metadata": {}
  },
  {
   "cell_type": "code",
   "execution_count": 103,
   "source": [
    "'8954981e037138a068726293fc78e2bf' in pids_ann_2020"
   ],
   "outputs": [
    {
     "output_type": "execute_result",
     "data": {
      "text/plain": [
       "False"
      ]
     },
     "metadata": {},
     "execution_count": 103
    }
   ],
   "metadata": {}
  },
  {
   "cell_type": "code",
   "execution_count": 109,
   "source": [
    "len(ann_counts)"
   ],
   "outputs": [
    {
     "output_type": "execute_result",
     "data": {
      "text/plain": [
       "100"
      ]
     },
     "metadata": {},
     "execution_count": 109
    }
   ],
   "metadata": {}
  },
  {
   "cell_type": "code",
   "execution_count": null,
   "source": [],
   "outputs": [],
   "metadata": {}
  }
 ],
 "metadata": {
  "orig_nbformat": 4,
  "language_info": {
   "name": "python",
   "version": "3.8.8",
   "mimetype": "text/x-python",
   "codemirror_mode": {
    "name": "ipython",
    "version": 3
   },
   "pygments_lexer": "ipython3",
   "nbconvert_exporter": "python",
   "file_extension": ".py"
  },
  "kernelspec": {
   "name": "python3",
   "display_name": "Python 3.8.8 64-bit ('ml': conda)"
  },
  "interpreter": {
   "hash": "a3b57ae452511bcb4e85bf43e9fd0e130cdc4ac4d3e57aa899b18f8d9d3f50c5"
  }
 },
 "nbformat": 4,
 "nbformat_minor": 2
}